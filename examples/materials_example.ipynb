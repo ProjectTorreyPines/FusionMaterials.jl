{
 "cells": [
  {
   "cell_type": "code",
   "execution_count": 23,
   "id": "c9cbf1ba-9532-463f-9dce-aa8f354e6951",
   "metadata": {},
   "outputs": [
    {
     "name": "stderr",
     "output_type": "stream",
     "text": [
      "\u001b[32m\u001b[1m  Activating\u001b[22m\u001b[39m project at `~/Coding/julia/FusionMaterials`\n"
     ]
    }
   ],
   "source": [
    "using Pkg\n",
    "Pkg.activate(\"..\")\n",
    "using Revise\n",
    "using FusionMaterials"
   ]
  },
  {
   "cell_type": "code",
   "execution_count": 24,
   "id": "c32fec12-aeb0-4212-a46a-f75ca10891e6",
   "metadata": {},
   "outputs": [
    {
     "data": {
      "text/plain": [
       "Dict{Any, Any} with 11 entries:\n",
       "  \"multiplier_materials\"    => [\"Ba5Pb3\", \"Nd5Pb4\", \"Zr5Pb3\", \"Zr5Pb4\", \"Be12Ti…\n",
       "  \"coolant_materials\"       => [\"D2O\", \"nitrogen\", \"H2O\", \"argon\", \"He\", \"CO2\",…\n",
       "  \"magnet_materials\"        => [\"ReBCO\", \"copper\", \"Nb3Sn\"]\n",
       "  \"insulators\"              => [\"Rexolite 1422\"]\n",
       "  \"structural_materials\"    => [\"eurofer\", \"WB\", \"SiC\", \"concrete_ordinary\", \"t…\n",
       "  \"pnnl_materials\"          => [\"Incoloy-800\", \"Plutonium Nitrate\", \"Polyethyle…\n",
       "  \"breeder_materials\"       => [\"FLiNaK\", \"Li\"]\n",
       "  \"moderators\"              => [\"isotropic graphite HPG-59\"]\n",
       "  \"breeder_materials_with_… => [\"Li4SiO4\", \"Li2SiO3\", \"Li2ZrO3\", \"Li2TiO3\"]\n",
       "  \"plasma_material\"         => [\"DD_plasma\", \"DT_plasma\"]\n",
       "  \"multiplier_and_breeder_… => [\"Li8PbO6\", \"Pb842Li158\", \"lithium-lead\", \"FLiBe…"
      ]
     },
     "execution_count": 24,
     "metadata": {},
     "output_type": "execute_result"
    }
   ],
   "source": [
    "available_materials()"
   ]
  },
  {
   "cell_type": "code",
   "execution_count": 25,
   "id": "d8da349c-131a-4e2f-a55d-4cfed7682236",
   "metadata": {},
   "outputs": [
    {
     "data": {
      "text/plain": [
       "Dict{String, Any} with 4 entries:\n",
       "  \"density\"      => 6.3\n",
       "  \"elements\"     => Dict{String, Any}(\"Y\"=>1.0, \"Cu\"=>3.0, \"Ba\"=>2.0, \"O\"=>7.0)\n",
       "  \"density_unit\" => \"g/cm3\"\n",
       "  \"percent_type\" => \"ao\""
      ]
     },
     "execution_count": 25,
     "metadata": {},
     "output_type": "execute_result"
    }
   ],
   "source": [
    "material(\"ReBCO\")"
   ]
  },
  {
   "cell_type": "code",
   "execution_count": null,
   "id": "b34e8c98-b33e-4297-84c2-77c007ce3f44",
   "metadata": {},
   "outputs": [],
   "source": []
  }
 ],
 "metadata": {
  "kernelspec": {
   "display_name": "Julia 1.7.0",
   "language": "julia",
   "name": "julia-1.7"
  },
  "language_info": {
   "file_extension": ".jl",
   "mimetype": "application/julia",
   "name": "julia",
   "version": "1.7.0"
  }
 },
 "nbformat": 4,
 "nbformat_minor": 5
}
