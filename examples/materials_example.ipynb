{
 "cells": [
  {
   "cell_type": "code",
   "execution_count": 2,
   "id": "c9cbf1ba-9532-463f-9dce-aa8f354e6951",
   "metadata": {},
   "outputs": [
    {
     "name": "stderr",
     "output_type": "stream",
     "text": [
      "\u001b[32m\u001b[1m  Activating\u001b[22m\u001b[39m project at `~/Coding/julia/FusionMaterials`\n",
      "┌ Info: Precompiling FusionMaterials [4c86da02-02c8-4634-8460-96566129f8e0]\n",
      "└ @ Base loading.jl:1423\n"
     ]
    }
   ],
   "source": [
    "using Pkg\n",
    "Pkg.activate(\"..\")\n",
    "using Revise\n",
    "using FusionMaterials"
   ]
  },
  {
   "cell_type": "code",
   "execution_count": 3,
   "id": "52340bd2-1be9-4643-bfc8-f1de19059443",
   "metadata": {},
   "outputs": [
    {
     "data": {
      "text/plain": [
       "13-element Vector{String}:\n",
       " \"blanket_materials\"\n",
       " \"breeder_materials\"\n",
       " \"breeder_materials_with_crystal_structure\"\n",
       " \"coolant_materials\"\n",
       " \"insulators\"\n",
       " \"magnet_materials\"\n",
       " \"moderators\"\n",
       " \"multiplier_and_breeder_materials\"\n",
       " \"multiplier_materials\"\n",
       " \"plasma_material\"\n",
       " \"pnnl_materials\"\n",
       " \"structural_materials\"\n",
       " \"wall_materials\""
      ]
     },
     "execution_count": 6,
     "metadata": {},
     "output_type": "execute_result"
    }
   ],
   "source": [
    "available_materials_groups()"
   ]
  },
  {
   "cell_type": "code",
   "execution_count": 8,
   "id": "e51c5ddb-6846-4dc8-ad6d-d1dea0fcf861",
   "metadata": {},
   "outputs": [
    {
     "data": {
      "text/plain": [
       "13-element Vector{String}:\n",
       " \"Steel, Stainless 304\"\n",
       " \"Steel, Stainless 302\"\n",
       " \"Steel, Stainless 316\"\n",
       " \"Steel, Stainless 321\"\n",
       " \"Steel, HT9 Stainless\"\n",
       " \"Steel, Stainless 347\"\n",
       " \"Steel, Stainless 409\"\n",
       " \"Steel, Stainless 440\"\n",
       " \"Steel, Stainless 316L\"\n",
       " \"Steel, Stainless 304L\"\n",
       " \"Steel, Stainless 202\"\n",
       " \"Steel, Boron Stainless\"\n",
       " \"Steel, Carbon\""
      ]
     },
     "execution_count": 8,
     "metadata": {},
     "output_type": "execute_result"
    }
   ],
   "source": [
    "available_materials(\"wall_materials\")"
   ]
  },
  {
   "cell_type": "code",
   "execution_count": 31,
   "id": "fd480ea4-3754-4092-a8b1-f89069592966",
   "metadata": {},
   "outputs": [
    {
     "data": {
      "text/plain": [
       "Dict{String, Any} with 5 entries:\n",
       "  \"density\"      => 8.0\n",
       "  \"elements\"     => Dict{String, Any}(\"Ti\"=>0.001712, \"S\"=>0.000511, \"Cr\"=>0.18…\n",
       "  \"density_unit\" => \"g/cm3\"\n",
       "  \"percent_type\" => \"ao\"\n",
       "  \"comment\"      => \"https://www.pnnl.gov/main/publications/external/technical_…"
      ]
     },
     "metadata": {},
     "output_type": "display_data"
    },
    {
     "data": {
      "text/plain": [
       "Dict{String, Any} with 5 entries:\n",
       "  \"density\"      => 7.87\n",
       "  \"elements\"     => Dict{String, Any}(\"B\"=>0.048827, \"S\"=>0.000244, \"Cr\"=>0.190…\n",
       "  \"density_unit\" => \"g/cm3\"\n",
       "  \"percent_type\" => \"ao\"\n",
       "  \"comment\"      => \"https://www.pnnl.gov/main/publications/external/technical_…"
      ]
     },
     "metadata": {},
     "output_type": "display_data"
    },
    {
     "data": {
      "text/plain": [
       "Dict{String, Any} with 5 entries:\n",
       "  \"density\"      => 7.86\n",
       "  \"elements\"     => Dict{String, Any}(\"S\"=>0.000476, \"Cr\"=>0.188773, \"Si\"=>0.01…\n",
       "  \"density_unit\" => \"g/cm3\"\n",
       "  \"percent_type\" => \"ao\"\n",
       "  \"comment\"      => \"https://www.pnnl.gov/main/publications/external/technical_…"
      ]
     },
     "metadata": {},
     "output_type": "display_data"
    },
    {
     "data": {
      "text/plain": [
       "Dict{String, Any} with 5 entries:\n",
       "  \"density\"      => 8.0\n",
       "  \"elements\"     => Dict{String, Any}(\"S\"=>0.000257, \"Cr\"=>0.201015, \"Si\"=>0.00…\n",
       "  \"density_unit\" => \"g/cm3\"\n",
       "  \"percent_type\" => \"ao\"\n",
       "  \"comment\"      => \"https://www.pnnl.gov/main/publications/external/technical_…"
      ]
     },
     "metadata": {},
     "output_type": "display_data"
    },
    {
     "data": {
      "text/plain": [
       "Dict{String, Any} with 5 entries:\n",
       "  \"density\"      => 8.0\n",
       "  \"elements\"     => Dict{String, Any}(\"S\"=>0.000514, \"Cr\"=>0.179602, \"Si\"=>0.01…\n",
       "  \"density_unit\" => \"g/cm3\"\n",
       "  \"percent_type\" => \"ao\"\n",
       "  \"comment\"      => \"https://www.pnnl.gov/main/publications/external/technical_…"
      ]
     },
     "metadata": {},
     "output_type": "display_data"
    },
    {
     "data": {
      "text/plain": [
       "Dict{String, Any} with 5 entries:\n",
       "  \"density\"      => 7.874\n",
       "  \"elements\"     => Dict{String, Any}(\"Cr\"=>0.121971, \"W\"=>0.0015, \"Si\"=>0.0078…\n",
       "  \"density_unit\" => \"g/cm3\"\n",
       "  \"percent_type\" => \"ao\"\n",
       "  \"comment\"      => \"https://www.pnnl.gov/main/publications/external/technical_…"
      ]
     },
     "metadata": {},
     "output_type": "display_data"
    },
    {
     "data": {
      "text/plain": [
       "Dict{String, Any} with 5 entries:\n",
       "  \"density\"      => 8.0\n",
       "  \"elements\"     => Dict{String, Any}(\"S\"=>0.00026, \"Cr\"=>0.181986, \"Si\"=>0.010…\n",
       "  \"density_unit\" => \"g/cm3\"\n",
       "  \"percent_type\" => \"ao\"\n",
       "  \"comment\"      => \"https://www.pnnl.gov/main/publications/external/technical_…"
      ]
     },
     "metadata": {},
     "output_type": "display_data"
    },
    {
     "data": {
      "text/plain": [
       "Dict{String, Any} with 5 entries:\n",
       "  \"density\"      => 7.86\n",
       "  \"elements\"     => Dict{String, Any}(\"S\"=>0.000255, \"Cr\"=>0.188773, \"Si\"=>0.00…\n",
       "  \"density_unit\" => \"g/cm3\"\n",
       "  \"percent_type\" => \"ao\"\n",
       "  \"comment\"      => \"https://www.pnnl.gov/main/publications/external/technical_…"
      ]
     },
     "metadata": {},
     "output_type": "display_data"
    },
    {
     "data": {
      "text/plain": [
       "Dict{String, Any} with 5 entries:\n",
       "  \"density\"      => 8.0\n",
       "  \"elements\"     => Dict{String, Any}(\"S\"=>0.000257, \"Cr\"=>0.200762, \"Si\"=>0.00…\n",
       "  \"density_unit\" => \"g/cm3\"\n",
       "  \"percent_type\" => \"ao\"\n",
       "  \"comment\"      => \"https://www.pnnl.gov/main/publications/external/technical_…"
      ]
     },
     "metadata": {},
     "output_type": "display_data"
    },
    {
     "data": {
      "text/plain": [
       "Dict{String, Any} with 5 entries:\n",
       "  \"density\"      => 8.0\n",
       "  \"elements\"     => Dict{String, Any}(\"S\"=>0.000518, \"Cr\"=>0.181098, \"Si\"=>0.01…\n",
       "  \"density_unit\" => \"g/cm3\"\n",
       "  \"percent_type\" => \"ao\"\n",
       "  \"comment\"      => \"https://www.pnnl.gov/main/publications/external/technical_…"
      ]
     },
     "metadata": {},
     "output_type": "display_data"
    },
    {
     "data": {
      "text/plain": [
       "Dict{String, Any} with 5 entries:\n",
       "  \"density\"      => 7.8\n",
       "  \"elements\"     => Dict{String, Any}(\"S\"=>0.000337, \"Cr\"=>0.176887, \"Si\"=>0.01…\n",
       "  \"density_unit\" => \"g/cm3\"\n",
       "  \"percent_type\" => \"ao\"\n",
       "  \"comment\"      => \"https://www.pnnl.gov/main/publications/external/technical_…"
      ]
     },
     "metadata": {},
     "output_type": "display_data"
    },
    {
     "data": {
      "text/plain": [
       "Dict{String, Any} with 5 entries:\n",
       "  \"density\"      => 7.8\n",
       "  \"elements\"     => Dict{String, Any}(\"Ti\"=>0.008406, \"S\"=>0.000749, \"Cr\"=>0.11…\n",
       "  \"density_unit\" => \"g/cm3\"\n",
       "  \"percent_type\" => \"ao\"\n",
       "  \"comment\"      => \"https://www.pnnl.gov/main/publications/external/technical_…"
      ]
     },
     "metadata": {},
     "output_type": "display_data"
    },
    {
     "data": {
      "text/plain": [
       "Dict{String, Any} with 5 entries:\n",
       "  \"density\"      => 7.82\n",
       "  \"elements\"     => Dict{String, Any}(\"C\"=>0.022831, \"Fe\"=>0.977169)\n",
       "  \"density_unit\" => \"g/cm3\"\n",
       "  \"percent_type\" => \"ao\"\n",
       "  \"comment\"      => \"https://www.pnnl.gov/main/publications/external/technical_…"
      ]
     },
     "metadata": {},
     "output_type": "display_data"
    }
   ],
   "source": [
    "for mat in available_materials(r\"Steel*\")\n",
    "    display(material(mat))\n",
    "end"
   ]
  },
  {
   "cell_type": "code",
   "execution_count": 3,
   "id": "d8da349c-131a-4e2f-a55d-4cfed7682236",
   "metadata": {},
   "outputs": [
    {
     "data": {
      "text/plain": [
       "Dict{String, Any} with 4 entries:\n",
       "  \"density\"      => 6.3\n",
       "  \"elements\"     => Dict{String, Any}(\"Y\"=>1.0, \"Cu\"=>3.0, \"Ba\"=>2.0, \"O\"=>7.0)\n",
       "  \"density_unit\" => \"g/cm3\"\n",
       "  \"percent_type\" => \"ao\""
      ]
     },
     "execution_count": 3,
     "metadata": {},
     "output_type": "execute_result"
    }
   ],
   "source": [
    "material(\"ReBCO\")"
   ]
  }
 ],
 "metadata": {
  "kernelspec": {
   "display_name": "Julia 1.7.1",
   "language": "julia",
   "name": "julia-1.7"
  },
  "language_info": {
   "file_extension": ".jl",
   "mimetype": "application/julia",
   "name": "julia",
   "version": "1.7.1"
  }
 },
 "nbformat": 4,
 "nbformat_minor": 5
}
