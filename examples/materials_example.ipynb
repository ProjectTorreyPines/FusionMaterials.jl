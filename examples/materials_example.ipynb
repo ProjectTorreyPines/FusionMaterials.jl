{
 "cells": [
  {
   "cell_type": "code",
   "execution_count": null,
   "id": "c9cbf1ba-9532-463f-9dce-aa8f354e6951",
   "metadata": {},
   "outputs": [],
   "source": [
    "using Revise\n",
    "using FusionMaterials\n",
    "using FUSE"
   ]
  },
  {
   "cell_type": "markdown",
   "id": "c9ca5b22-997e-40b0-91cf-9a75cde0a371",
   "metadata": {},
   "source": [
    "# The function all_materials() shows the list of all materials that can be used in FUSE"
   ]
  },
  {
   "cell_type": "code",
   "execution_count": null,
   "id": "52340bd2-1be9-4643-bfc8-f1de19059443",
   "metadata": {},
   "outputs": [],
   "source": [
    "FusionMaterials.all_materials()"
   ]
  },
  {
   "cell_type": "markdown",
   "id": "471a97f9-aacb-40bc-ae36-a2e133894933",
   "metadata": {},
   "source": [
    "# Each material's properties can be accessed by calling the Material() function on the material name as a symbol"
   ]
  },
  {
   "cell_type": "code",
   "execution_count": null,
   "id": "e51c5ddb-6846-4dc8-ad6d-d1dea0fcf861",
   "metadata": {},
   "outputs": [],
   "source": [
    "FusionMaterials.Material(:aluminum)"
   ]
  },
  {
   "cell_type": "code",
   "execution_count": null,
   "id": "62c8dcea-c728-4ab3-b863-fd150dc42105",
   "metadata": {},
   "outputs": [],
   "source": [
    "FusionMaterials.Material(:aluminum).density"
   ]
  },
  {
   "cell_type": "markdown",
   "id": "e1d2e0e4-35f4-477a-95c1-4fe081635d39",
   "metadata": {},
   "source": [
    "# Some materials have temperature-dependent densities that can be calculated when a specific temperature is passed to the material function"
   ]
  },
  {
   "cell_type": "code",
   "execution_count": null,
   "id": "b2a7077b-9978-4edb-9e11-1556e0f76d05",
   "metadata": {},
   "outputs": [],
   "source": [
    "using Plots\n",
    "temps = 400:50:800\n",
    "dens = [FusionMaterials.Material(:lithium_lead; temperature = t).density for t in temps];"
   ]
  },
  {
   "cell_type": "code",
   "execution_count": null,
   "id": "66f2457f-a4df-4dcd-836d-a11238d79e21",
   "metadata": {},
   "outputs": [],
   "source": [
    "plot(temps, dens)\n",
    "xlabel!(\"temperature (K)\")\n",
    "ylabel!(\"density (kg/m^3)\")"
   ]
  },
  {
   "cell_type": "markdown",
   "id": "f04eadad-7237-4225-a882-51fcf64741a1",
   "metadata": {},
   "source": [
    "# Each material also has a list of acceptable build layer types that define which kinds of the layers the material can be assigned to. The validity of assigning a material to a certain layer type can be checked using the is_supported_material(mat, layer_type) function "
   ]
  },
  {
   "cell_type": "code",
   "execution_count": null,
   "id": "84c0fc97-0216-423a-9bea-16de3eaa15c9",
   "metadata": {},
   "outputs": [],
   "source": [
    "FusionMaterials.is_supported_material(:lithium_lead, IMAS._tf_)"
   ]
  },
  {
   "cell_type": "code",
   "execution_count": null,
   "id": "5a4b11f4-551e-488d-b482-5c8df1ce6cf6",
   "metadata": {},
   "outputs": [],
   "source": [
    "FusionMaterials.is_supported_material(:rebco, IMAS._tf_)"
   ]
  },
  {
   "cell_type": "markdown",
   "id": "c70f7a97-d5d8-4ed0-8095-284ef1f769cc",
   "metadata": {},
   "source": [
    "# The list of all types that a material can be assigned to can also be accessed with the Material function"
   ]
  },
  {
   "cell_type": "code",
   "execution_count": null,
   "id": "a75413ca-c5b6-4bbd-a852-a6cb06a48de6",
   "metadata": {},
   "outputs": [],
   "source": [
    "FusionMaterials.Material(:tungsten).type"
   ]
  },
  {
   "cell_type": "markdown",
   "id": "3f1718f2-47c9-41eb-91f4-c4552773f6c7",
   "metadata": {},
   "source": [
    "# Superconducting materials also have superconductor-specific properties such as the critical current density and critical magnetic field. Those properties can be accessed by passing the material name, along with an IMAS coil_tech object (dd.build.tf.technology, dd.build.oh.technology or dd.build.pf_active.technology) and the external magnetic field to the Material function. "
   ]
  },
  {
   "cell_type": "code",
   "execution_count": null,
   "id": "f95c75f4-0c53-4b96-bc14-e8cdf561eb50",
   "metadata": {},
   "outputs": [],
   "source": [
    "ini, act = FUSE.case_parameters(:ITER; init_from = :scalars);\n",
    "dd = FUSE.init(ini,act);"
   ]
  },
  {
   "cell_type": "code",
   "execution_count": null,
   "id": "6a6c5301-0904-46f1-aac7-0a12a4240c8a",
   "metadata": {},
   "outputs": [],
   "source": [
    "FusionMaterials.Material(:iter_nb3sn; coil_tech = dd.build.tf.technology, Bext = 10).critical_current_density"
   ]
  },
  {
   "cell_type": "code",
   "execution_count": null,
   "id": "bff32e9e-290b-4656-860f-37e2d4b8bbed",
   "metadata": {},
   "outputs": [],
   "source": [
    "FusionMaterials.Material(:iter_nb3sn; coil_tech = dd.build.tf.technology, Bext = 10).critical_magnetic_field"
   ]
  }
 ],
 "metadata": {
  "kernelspec": {
   "display_name": "Julia 1.10.0",
   "language": "julia",
   "name": "julia-1.10"
  },
  "language_info": {
   "file_extension": ".jl",
   "mimetype": "application/julia",
   "name": "julia",
   "version": "1.10.0"
  }
 },
 "nbformat": 4,
 "nbformat_minor": 5
}
